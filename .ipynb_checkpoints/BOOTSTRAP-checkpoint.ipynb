{
 "cells": [
  {
   "cell_type": "markdown",
   "metadata": {},
   "source": [
    "$f(x)=\\dfrac{e^{-\\mu}\\mu^x}{x!}$"
   ]
  },
  {
   "cell_type": "code",
   "execution_count": 92,
   "metadata": {},
   "outputs": [],
   "source": [
    "import numpy as np\n",
    "from random import choices\n",
    "import scipy as sp\n",
    "import scipy.stats as stats\n",
    "import matplotlib.pyplot as plt\n",
    "from matplotlib.collections import LineCollection"
   ]
  },
  {
   "cell_type": "code",
   "execution_count": 99,
   "metadata": {},
   "outputs": [],
   "source": [
    "n=30\n",
    "s = np.random.poisson(3,n)\n",
    "lthetas=[]\n",
    "#paso creamos n muestras boostrap\n",
    "def muestras(m,n,s):\n",
    "    for i in range(m):\n",
    "        x_bar=np.mean(choices(s,k=n))\n",
    "        lthetas.append(x_bar)\n",
    "    return \n"
   ]
  },
  {
   "cell_type": "code",
   "execution_count": 100,
   "metadata": {},
   "outputs": [],
   "source": [
    "def se(lthetas):\n",
    "    k=len(lthetas)\n",
    "    #print(k)\n",
    "    #print(np.mean(lthetas))\n",
    "    suma=sum([(i-np.mean(lthetas))**2 for i in lthetas])\n",
    "    #print(suma)\n",
    "    return(sp.sqrt((1/k)*suma))"
   ]
  },
  {
   "cell_type": "code",
   "execution_count": 12,
   "metadata": {},
   "outputs": [
    {
     "name": "stdout",
     "output_type": "stream",
     "text": [
      "2000\n",
      "3.3244499999999997\n",
      "146.6077283333338\n"
     ]
    },
    {
     "data": {
      "text/plain": [
       "0.27074686363218853"
      ]
     },
     "execution_count": 12,
     "metadata": {},
     "output_type": "execute_result"
    }
   ],
   "source": [
    "m=1000\n",
    "muestras(m,n,s)\n",
    "se(lthetas)"
   ]
  },
  {
   "cell_type": "code",
   "execution_count": 9,
   "metadata": {},
   "outputs": [],
   "source": [
    "med=np.mean(lthetas)"
   ]
  },
  {
   "cell_type": "code",
   "execution_count": 10,
   "metadata": {},
   "outputs": [
    {
     "data": {
      "text/plain": [
       "0.2723432780721986"
      ]
     },
     "execution_count": 10,
     "metadata": {},
     "output_type": "execute_result"
    }
   ],
   "source": [
    "sp.sqrt(sum([(i-med)**2 for i in lthetas])/1000)"
   ]
  },
  {
   "cell_type": "code",
   "execution_count": 11,
   "metadata": {},
   "outputs": [
    {
     "name": "stdout",
     "output_type": "stream",
     "text": [
      "este es el error estándar verdadero 0.27621784210346784\n"
     ]
    }
   ],
   "source": [
    "ser=np.sqrt(np.var(s)/n)\n",
    "print(\"este es el error estándar verdadero\",ser)"
   ]
  },
  {
   "cell_type": "markdown",
   "metadata": {},
   "source": [
    "Ahora calculemos el estimador máximo verosimil de $\\theta$. Para esto consideremos la función \n",
    "$$\n",
    "f(x_{1}, \\ldots, x_{n}; \\theta)=\\prod_{i=1}^{n}\\frac{\\theta^{x_{i}}e^{-\\theta}}{x_{i}!}=\\frac{\\theta^{\\sum_{i=1}^{n} x_{i}}e^{-\\theta n}}{\\prod_{i=1}^{n}x_{i}!}.\n",
    "$$\n",
    "Luego\n",
    "$$\n",
    "\\log(f(x_{1}, \\ldots, x_{n}); \\theta)=\\left(\\sum_{i=1}^{n} x_{i}\\right)\\log(\\theta)-\\theta n-\\log\\left(\\prod_{i=1}^{n}x_{i}!\\right),\n",
    "$$\n",
    "de este modo\n",
    "$$\n",
    "\\frac{\\partial \\log(f(x_{1}, \\ldots, x_{n}); \\theta)}{\\partial \\theta}=\\frac{\\sum_{i=1}^{n} x_{i}}{\\theta}-n, \n",
    "$$\n",
    "entonces $\\frac{\\partial \\log(f(x_{1}, \\ldots, x_{n})}{\\partial\\theta}=0$ si $\\theta=\\frac{\\sum_{i=1}^{n} x_{i}}{n}$. Consecuentemente el estimador máximo verosímil está dado por $\\theta=\\bar{x}$."
   ]
  },
  {
   "cell_type": "markdown",
   "metadata": {},
   "source": [
    "Luego surge la siguiente cuestión ¿cómo se calcularía un intervalo al $90\\%$ de confianza para $\\theta$? Respondamos pues a esta pregunta.\n",
    "\n",
    "Sabemos que si $x_{1}, \\ldots, x_{n}$ es una muestra $Po(\\lambda)$, entonces el intervalo de confianza está dado por \n",
    "\\begin{equation}\n",
    "P\\left(\\bar{x}-\\sqrt{\\frac{\\bar{x}}{n}}Z_{1-\\frac{\\alpha}{2}}\\leq \\lambda\\leq\\bar{x}-\\sqrt{\\frac{\\bar{x}}{n}}Z_{1-\\frac{\\alpha}{2}}\\right)=1-\\alpha.    \\ \\      \\ \\     Ec(1)\n",
    "\\end{equation}\n",
    "De este modo, con la información que tenemos, en la ec(1) en lugar de usar $\\sqrt{\\frac{\\bar{x}}{n}}$ usaremos el error estándar que obtuvimos con el método bootstrap. "
   ]
  },
  {
   "cell_type": "code",
   "execution_count": 96,
   "metadata": {},
   "outputs": [
    {
     "data": {
      "text/plain": [
       "1.2815515655446004"
      ]
     },
     "execution_count": 96,
     "metadata": {},
     "output_type": "execute_result"
    }
   ],
   "source": [
    "stats.norm.ppf(0.9)"
   ]
  },
  {
   "cell_type": "code",
   "execution_count": 104,
   "metadata": {},
   "outputs": [],
   "source": [
    "k=40\n",
    "alpha=0.1\n",
    "mat=np.zeros((k,3))\n",
    "z_a=stats.norm.ppf(1-alpha/2)\n",
    "s = np.random.poisson(3,n)\n",
    "for i in range(k):\n",
    "    muestras(k,n,s)\n",
    "    serror=se(lthetas)\n",
    "    s0=np.random.poisson(3,n)\n",
    "    mat[i,0]=np.mean(s0)\n",
    "    mat[i,1]=mat[i,0]-z_a*serror\n",
    "    mat[i,2]=mat[i,0]+z_a*serror   "
   ]
  },
  {
   "cell_type": "code",
   "execution_count": 108,
   "metadata": {},
   "outputs": [],
   "source": [
    "s0=np.random.poisson(3,n)\n",
    "l=[i for i in range(len(mat[:,1]))]\n",
    "num=len(l)-1"
   ]
  },
  {
   "cell_type": "code",
   "execution_count": 109,
   "metadata": {},
   "outputs": [],
   "source": [
    "lines = [[(i, k), (j, k)] for i,j,k in zip(mat[:,1],mat[:,2],l)]\n",
    "med=[[(3,0),(3,num)]]"
   ]
  },
  {
   "cell_type": "code",
   "execution_count": 110,
   "metadata": {},
   "outputs": [
    {
     "data": {
      "image/png": "[encoded data removed]",
      "text/plain": [
       "<Figure size 432x288 with 1 Axes>"
      ]
     },
     "metadata": {},
     "output_type": "display_data"
    }
   ],
   "source": [
    "lc = LineCollection(lines, colors=['r', 'g', 'b'],linewidths=2)\n",
    "ld= LineCollection(med, colors=['r', 'g', 'b'],linewidths=2)\n",
    "fig, ax = plt.subplots()\n",
    "ax.add_collection(lc)\n",
    "ax.add_collection(ld)\n",
    "ax.autoscale()\n",
    "ax.margins(0.1)"
   ]
  }
 ],
 "metadata": {
  "kernelspec": {
   "display_name": "Python 3",
   "language": "python",
   "name": "python3"
  },
  "language_info": {
   "codemirror_mode": {
    "name": "ipython",
    "version": 3
   },
   "file_extension": ".py",
   "mimetype": "text/x-python",
   "name": "python",
   "nbconvert_exporter": "python",
   "pygments_lexer": "ipython3",
   "version": "3.6.4"
  }
 },
 "nbformat": 4,
 "nbformat_minor": 2
}
