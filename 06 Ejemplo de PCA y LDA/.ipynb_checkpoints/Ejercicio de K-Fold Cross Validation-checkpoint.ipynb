{
 "cells": [
  {
   "cell_type": "markdown",
   "metadata": {},
   "source": [
    "# Bibliotecas"
   ]
  },
  {
   "cell_type": "code",
   "execution_count": 1,
   "metadata": {
    "ExecuteTime": {
     "end_time": "2019-03-29T21:05:41.808732Z",
     "start_time": "2019-03-29T21:05:28.173732Z"
    }
   },
   "outputs": [],
   "source": [
    "# Bibliotecas a utilizar \n",
    "import numpy                   as     np                 # Uso de álgebra lineal, funciones vectoriales\n",
    "import pandas                  as     pd                 # Trabajar con DataFrames\n",
    "import matplotlib.pyplot       as     plt                # Para realizar gráficas\n",
    "import seaborn                 as     sns                # Otras funciones para graficar\n",
    "\n",
    "from sklearn.linear_model          import LogisticRegression            # Model Logistico\n",
    "from sklearn.naive_bayes           import GaussianNB                    # Modelo NaiveBayes\n",
    "from sklearn.discriminant_analysis import LinearDiscriminantAnalysis    # Modelo LDA\n",
    "from sklearn.discriminant_analysis import QuadraticDiscriminantAnalysis # Modelo QDA\n",
    "\n",
    "from sklearn.metrics               import accuracy_score     # Función para calcular la precisión de clasificación\n",
    "from sklearn.metrics               import confusion_matrix   # Función para calcular una matriz de confusión\n",
    "from sklearn.model_selection       import KFold              # Función para realizar K-Fold Cross Validation\n",
    "from sklearn.model_selection       import cross_val_score    # Función para realizar K-Fold-Cross Validation \n",
    "\n",
    "import warnings\n",
    "warnings.filterwarnings('ignore')\n",
    "sns.set()"
   ]
  },
  {
   "cell_type": "markdown",
   "metadata": {},
   "source": [
    "# Análisis Descriptivo"
   ]
  },
  {
   "cell_type": "code",
   "execution_count": 2,
   "metadata": {
    "ExecuteTime": {
     "end_time": "2019-03-29T21:05:41.853732Z",
     "start_time": "2019-03-29T21:05:41.813732Z"
    }
   },
   "outputs": [],
   "source": [
    "# Leemos nuestros archivos \n",
    "#datos = pd.read_csv(\"iris.csv\")   # Datos con 3 clases\n",
    "datos = pd.read_csv(\"rock.csv\")   # Datos con 12 clases\n",
    "datos.sample(10)"
   ]
  },
  {
   "cell_type": "code",
   "execution_count": 3,
   "metadata": {
    "ExecuteTime": {
     "end_time": "2019-03-29T21:05:41.878732Z",
     "start_time": "2019-03-29T21:05:41.859732Z"
    }
   },
   "outputs": [],
   "source": [
    "datos.groupby(by=\"type_desc\")[\"area\"].count()"
   ]
  },
  {
   "cell_type": "code",
   "execution_count": 4,
   "metadata": {
    "ExecuteTime": {
     "end_time": "2019-03-29T21:05:52.130732Z",
     "start_time": "2019-03-29T21:05:41.887732Z"
    }
   },
   "outputs": [],
   "source": [
    "sns.pairplot(datos, hue = \"type_desc\", height=2, aspect=2)\n",
    "plt.plot()"
   ]
  },
  {
   "cell_type": "code",
   "execution_count": 5,
   "metadata": {
    "ExecuteTime": {
     "end_time": "2019-03-29T21:05:52.176732Z",
     "start_time": "2019-03-29T21:05:52.133732Z"
    }
   },
   "outputs": [],
   "source": [
    "matriz_diseño = datos.iloc[:,0:4]\n",
    "y_real        = datos.iloc[:,  4]\n",
    "matriz_diseño.head()"
   ]
  },
  {
   "cell_type": "markdown",
   "metadata": {},
   "source": [
    "# Análisis de modelos individuales"
   ]
  },
  {
   "cell_type": "code",
   "execution_count": null,
   "metadata": {},
   "outputs": [],
   "source": []
  },
  {
   "cell_type": "markdown",
   "metadata": {},
   "source": [
    "# Análisis de sobreajuste "
   ]
  },
  {
   "cell_type": "code",
   "execution_count": 6,
   "metadata": {
    "ExecuteTime": {
     "end_time": "2019-03-29T21:05:52.313732Z",
     "start_time": "2019-03-29T21:05:52.178732Z"
    }
   },
   "outputs": [],
   "source": [
    "modelo     = LogisticRegression(C=1.0, penalty=\"l2\",fit_intercept=True,class_weight=None)\n",
    "k_fold     = KFold(n_splits=10, shuffle=True, random_state=0)\n",
    "score      = cross_val_score( modelo, matriz_diseño, y_real, cv=k_fold, n_jobs=1, scoring=\"accuracy\",)\n",
    "print( \"Precisiones:         \", [ str( np.round(100*x,1) ) + \"%\" for x in score] )\n",
    "print( \"Precisión Min y Max: \", [ str( np.round(100*x,1) ) + \"%\" for x in [np.min(score),np.max(score)] ] )\n",
    "print( \"Precisión puntual:   \", [ str( np.round(100*x,1) ) + \"%\" for x in [ np.mean(score) ] ]  )"
   ]
  },
  {
   "cell_type": "code",
   "execution_count": 7,
   "metadata": {
    "ExecuteTime": {
     "end_time": "2019-03-29T21:05:52.407732Z",
     "start_time": "2019-03-29T21:05:52.315732Z"
    }
   },
   "outputs": [],
   "source": [
    "modelo     = GaussianNB(priors=None, var_smoothing=1e-09)\n",
    "k_fold     = KFold(n_splits=10, shuffle=True, random_state=0)\n",
    "score      = cross_val_score( modelo, matriz_diseño, y_real, cv=k_fold, n_jobs=1, scoring=\"accuracy\")\n",
    "print( \"Precisiones:         \", [ str( np.round(100*x,1) ) + \"%\" for x in score] )\n",
    "print( \"Precisión Min y Max: \", [ str( np.round(100*x,1) ) + \"%\" for x in [np.min(score),np.max(score)] ] )\n",
    "print( \"Precisión puntual:   \", [ str( np.round(100*x,1) ) + \"%\" for x in [ np.mean(score) ] ]  )"
   ]
  },
  {
   "cell_type": "code",
   "execution_count": 8,
   "metadata": {
    "ExecuteTime": {
     "end_time": "2019-03-29T21:05:52.476732Z",
     "start_time": "2019-03-29T21:05:52.409732Z"
    }
   },
   "outputs": [],
   "source": [
    "modelo     = LinearDiscriminantAnalysis(n_components=None, tol=0.0001)\n",
    "k_fold     = KFold(n_splits=10, shuffle=True, random_state=0)\n",
    "score      = cross_val_score( modelo, matriz_diseño, y_real, cv=k_fold, n_jobs=1, scoring=\"accuracy\")\n",
    "print( \"Precisiones:         \", [ str( np.round(100*x,1) ) + \"%\" for x in score] )\n",
    "print( \"Precisión Min y Max: \", [ str( np.round(100*x,1) ) + \"%\" for x in [np.min(score),np.max(score)] ] )\n",
    "print( \"Precisión puntual:   \", [ str( np.round(100*x,1) ) + \"%\" for x in [ np.mean(score) ] ]  )"
   ]
  },
  {
   "cell_type": "code",
   "execution_count": 9,
   "metadata": {
    "ExecuteTime": {
     "end_time": "2019-03-29T21:05:52.557732Z",
     "start_time": "2019-03-29T21:05:52.478732Z"
    }
   },
   "outputs": [],
   "source": [
    "modelo     = QuadraticDiscriminantAnalysis(priors=None,reg_param=0.0, store_covariance=False,tol=0.0001,store_covariances=None)\n",
    "k_fold     = KFold(n_splits=10, shuffle=True, random_state=0)\n",
    "score      = cross_val_score( modelo, matriz_diseño, y_real, cv=k_fold, n_jobs=1, scoring=\"accuracy\")\n",
    "print( \"Precisiones:         \", [ str( np.round(100*x,1) ) + \"%\" for x in score] )\n",
    "print( \"Precisión Min y Max: \", [ str( np.round(100*x,1) ) + \"%\" for x in [np.min(score),np.max(score)] ] )\n",
    "print( \"Precisión puntual:   \", [ str( np.round(100*x,1) ) + \"%\" for x in [ np.mean(score) ] ]  )"
   ]
  },
  {
   "cell_type": "markdown",
   "metadata": {},
   "source": [
    "# Modelo final"
   ]
  },
  {
   "cell_type": "code",
   "execution_count": 10,
   "metadata": {
    "ExecuteTime": {
     "end_time": "2019-03-29T21:05:52.567732Z",
     "start_time": "2019-03-29T21:05:52.561732Z"
    }
   },
   "outputs": [],
   "source": [
    "modelo_final = GaussianNB(priors=None, var_smoothing=1e-09)\n",
    "modelo_final"
   ]
  },
  {
   "cell_type": "code",
   "execution_count": 11,
   "metadata": {
    "ExecuteTime": {
     "end_time": "2019-03-29T21:05:52.592732Z",
     "start_time": "2019-03-29T21:05:52.569732Z"
    }
   },
   "outputs": [],
   "source": [
    "modelo_final.fit( X = matriz_diseño, y = y_real )\n",
    "y_estimada = modelo_final.predict( X = matriz_diseño )\n",
    "y_estimada[0:10]"
   ]
  },
  {
   "cell_type": "code",
   "execution_count": 12,
   "metadata": {
    "ExecuteTime": {
     "end_time": "2019-03-29T21:05:52.606732Z",
     "start_time": "2019-03-29T21:05:52.594732Z"
    }
   },
   "outputs": [],
   "source": [
    "print( \"Precisión: \", str( np.round( 100*accuracy_score( y_true = y_real, y_pred = y_estimada ),2) ) + \"%\" )"
   ]
  },
  {
   "cell_type": "code",
   "execution_count": 13,
   "metadata": {
    "ExecuteTime": {
     "end_time": "2019-03-29T21:05:52.621732Z",
     "start_time": "2019-03-29T21:05:52.610732Z"
    }
   },
   "outputs": [],
   "source": [
    "confusion_matrix(y_true = y_real, y_pred = y_estimada)"
   ]
  }
 ],
 "metadata": {
  "hide_input": false,
  "kernelspec": {
   "display_name": "Python 3",
   "language": "python",
   "name": "python3"
  },
  "language_info": {
   "codemirror_mode": {
    "name": "ipython",
    "version": 3
   },
   "file_extension": ".py",
   "mimetype": "text/x-python",
   "name": "python",
   "nbconvert_exporter": "python",
   "pygments_lexer": "ipython3",
   "version": "3.7.1"
  },
  "varInspector": {
   "cols": {
    "lenName": 16,
    "lenType": 16,
    "lenVar": 40
   },
   "kernels_config": {
    "python": {
     "delete_cmd_postfix": "",
     "delete_cmd_prefix": "del ",
     "library": "var_list.py",
     "varRefreshCmd": "print(var_dic_list())"
    },
    "r": {
     "delete_cmd_postfix": ") ",
     "delete_cmd_prefix": "rm(",
     "library": "var_list.r",
     "varRefreshCmd": "cat(var_dic_list()) "
    }
   },
   "types_to_exclude": [
    "module",
    "function",
    "builtin_function_or_method",
    "instance",
    "_Feature"
   ],
   "window_display": false
  }
 },
 "nbformat": 4,
 "nbformat_minor": 2
}
