{
 "cells": [
  {
   "cell_type": "markdown",
   "metadata": {},
   "source": [
    "#### Tarea de Redes Bayesianas"
   ]
  },
  {
   "cell_type": "code",
   "execution_count": 6,
   "metadata": {},
   "outputs": [],
   "source": [
    "library(bnlearn)"
   ]
  },
  {
   "cell_type": "markdown",
   "metadata": {},
   "source": [
    "Considere el siguiente ejemplo de una encuesta hipotética cuyo objetivo es investigar los patrones de uso de diferentes medios de transporte centrandonos en trenes y automoviles.\n",
    "\n",
    "* Age (A): La edad, Si es joven (young) para individuos menores de 30 años, adultos (adult) para individuos entre 30 y 60 años, y ancianos para personas mayores de 60\n",
    "* Sex (S): El sexo biologico del individuo, hombree (M) o mujer(F).\n",
    "* Education (E): el nivel educativo, high school (high) o la uninversidad (uni).\n",
    "* Occupation (O): Si el individuo esta empleado (emp) o es un trabajador por cuenta propia(self).\n",
    "* Residence (R): El tamaño de la ciudad pequeña (small) o grande (big).\n",
    "* Travel (T): El transporte favorito para el individuo, carro (car), tren (train) u otro (other). "
   ]
  },
  {
   "cell_type": "code",
   "execution_count": 12,
   "metadata": {},
   "outputs": [
    {
     "name": "stdout",
     "output_type": "stream",
     "text": [
      "[1] \"Dataset con 500 observaciones\"\n"
     ]
    },
    {
     "data": {
      "text/html": [
       "<ol class=list-inline>\n",
       "\t<li>500</li>\n",
       "\t<li>6</li>\n",
       "</ol>\n"
      ],
      "text/latex": [
       "\\begin{enumerate*}\n",
       "\\item 500\n",
       "\\item 6\n",
       "\\end{enumerate*}\n"
      ],
      "text/markdown": [
       "1. 500\n",
       "2. 6\n",
       "\n",
       "\n"
      ],
      "text/plain": [
       "[1] 500   6"
      ]
     },
     "metadata": {},
     "output_type": "display_data"
    }
   ],
   "source": [
    "data=read.table('survey.txt',header = TRUE)\n",
    "print('Dataset con 500 observaciones')\n",
    "dim(data)"
   ]
  },
  {
   "cell_type": "code",
   "execution_count": 16,
   "metadata": {},
   "outputs": [
    {
     "data": {
      "image/png": "[encoded data removed]",
      "text/plain": [
       "plot without title"
      ]
     },
     "metadata": {},
     "output_type": "display_data"
    }
   ],
   "source": [
    "dag = model2network(\"[A][S][E|A:S][O|E][R|E][T|O:R]\")\n",
    "options(repr.plot.width=6, repr.plot.height=6)\n",
    "plot(dag)"
   ]
  },
  {
   "cell_type": "markdown",
   "metadata": {},
   "source": [
    "Deberá:\n",
    "* obtener las tablas de frecuencia para cada uno de los nodos y asignar sus probabilidades respectivas.\n",
    "* obtenga Pr(A, S, E, O, R, T)\n",
    "* Obtenga las probabilidades de los siguientes eventos\n",
    "1. Ser del sexo masculino viajar en carro si su nivel educativo en la high school\n",
    "2. Pr(S = M, T = car | {A = young, E = uni} ∪ {A = adult}),"
   ]
  }
 ],
 "metadata": {
  "kernelspec": {
   "display_name": "R",
   "language": "R",
   "name": "ir"
  },
  "language_info": {
   "codemirror_mode": "r",
   "file_extension": ".r",
   "mimetype": "text/x-r-source",
   "name": "R",
   "pygments_lexer": "r",
   "version": "3.4.3"
  }
 },
 "nbformat": 4,
 "nbformat_minor": 2
}
