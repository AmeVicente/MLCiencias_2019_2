{
 "cells": [
  {
   "cell_type": "markdown",
   "metadata": {},
   "source": [
    "### La muy pero muy famosa Red Asia"
   ]
  },
  {
   "cell_type": "code",
   "execution_count": 20,
   "metadata": {},
   "outputs": [],
   "source": [
    "library(bnlearn)"
   ]
  },
  {
   "cell_type": "markdown",
   "metadata": {},
   "source": [
    "• D (Dispnea), dificultad respiratoria.\n",
    "\n",
    "• T (Tuberculosis), tubercolosis a two-level factor with levels yes and no.\n",
    "\n",
    "• L (Cancer pulmonar), a two-level factor with levels yes and no.\n",
    "\n",
    "• B (Bronquitis), a two-level factor with levels yes and no.\n",
    "\n",
    "• A (Visito Asia), a two-level factor with levels yes and no.\n",
    "\n",
    "• S (Fumador), a two-level factor with levels yes and no.\n",
    "\n",
    "• X (Radiografía de pecho), a two-level factor with levels yes and no.\n",
    "\n",
    "• E (tuberculosis versus lung cancer/bronchitis), a two-level factor with levels yes and no."
   ]
  },
  {
   "cell_type": "code",
   "execution_count": 168,
   "metadata": {},
   "outputs": [
    {
     "data": {
      "image/png": "[encoded data removed]",
      "text/plain": [
       "plot without title"
      ]
     },
     "metadata": {},
     "output_type": "display_data"
    }
   ],
   "source": [
    "data(asia)\n",
    "options(repr.plot.width=5, repr.plot.height=5)\n",
    "dag = model2network(\"[A][S][T|A][L|S][B|S][D|B:E][E|T:L][X|E]\")\n",
    "plot(dag,col=\"blue\")"
   ]
  },
  {
   "cell_type": "code",
   "execution_count": 161,
   "metadata": {},
   "outputs": [
    {
     "name": "stdout",
     "output_type": "stream",
     "text": [
      "[1] \"Visitante a Asia\"\n"
     ]
    },
    {
     "data": {
      "text/plain": [
       "\n",
       "  no  yes \n",
       "0.99 0.01 "
      ]
     },
     "metadata": {},
     "output_type": "display_data"
    },
    {
     "name": "stdout",
     "output_type": "stream",
     "text": [
      "[1] \"Si es fumador\"\n"
     ]
    },
    {
     "data": {
      "text/plain": [
       "\n",
       " no yes \n",
       "0.5 0.5 "
      ]
     },
     "metadata": {},
     "output_type": "display_data"
    },
    {
     "name": "stdout",
     "output_type": "stream",
     "text": [
      "[1] \"Tuberculosis dado que visito Asia\"\n"
     ]
    },
    {
     "data": {
      "text/plain": [
       "     \n",
       "        no  yes\n",
       "  no  0.99 0.01\n",
       "  yes 0.95 0.05"
      ]
     },
     "metadata": {},
     "output_type": "display_data"
    },
    {
     "name": "stdout",
     "output_type": "stream",
     "text": [
      "[1] \"Tiene bronquitis dado que fuma\"\n"
     ]
    },
    {
     "data": {
      "text/plain": [
       "     \n",
       "        no  yes\n",
       "  no  0.70 0.30\n",
       "  yes 0.28 0.72"
      ]
     },
     "metadata": {},
     "output_type": "display_data"
    },
    {
     "name": "stdout",
     "output_type": "stream",
     "text": [
      "[1] \"Tiene cancer pulmonar dado que fuma\"\n"
     ]
    },
    {
     "data": {
      "text/plain": [
       "     \n",
       "        no  yes\n",
       "  no  0.99 0.01\n",
       "  yes 0.88 0.12"
      ]
     },
     "metadata": {},
     "output_type": "display_data"
    },
    {
     "name": "stdout",
     "output_type": "stream",
     "text": [
      "[1] \"Gradiografia positiva dado que tiene tuberculosis o cancer\"\n"
     ]
    },
    {
     "data": {
      "text/plain": [
       "     \n",
       "        no  yes\n",
       "  no  0.96 0.04\n",
       "  yes 0.01 0.99"
      ]
     },
     "metadata": {},
     "output_type": "display_data"
    },
    {
     "name": "stdout",
     "output_type": "stream",
     "text": [
      "[1] \"Tiene dipnea dado que tien cancer o tuberculosis o bronquitis\"\n"
     ]
    },
    {
     "data": {
      "text/plain": [
       "           no  yes\n",
       "                  \n",
       "no  no   0.90 0.10\n",
       "    yes  0.28 0.72\n",
       "yes no   0.21 0.79\n",
       "    yes  0.15 0.85"
      ]
     },
     "metadata": {},
     "output_type": "display_data"
    },
    {
     "name": "stdout",
     "output_type": "stream",
     "text": [
      "[1] \"Tiene tuberculosisocancer dado que tiene tuberculosis o cancer\"\n"
     ]
    },
    {
     "data": {
      "text/plain": [
       "         no yes\n",
       "               \n",
       "no  no    1   0\n",
       "    yes   0   1\n",
       "yes no    0   1\n",
       "    yes   0   1"
      ]
     },
     "metadata": {},
     "output_type": "display_data"
    }
   ],
   "source": [
    "print(\"Visitante a Asia\")\n",
    "round(prop.table(table(asia$A)),digits = 2)\n",
    "print('Si es fumador')\n",
    "round(prop.table(table(asia$S)),digits = 2)\n",
    "print('Tuberculosis dado que visito Asia')\n",
    "round(prop.table(table(asia$A,asia$T),1),2)\n",
    "print('Tiene bronquitis dado que fuma')\n",
    "round(prop.table(table(asia$S,asia$B),1),2)\n",
    "print('Tiene cancer pulmonar dado que fuma')\n",
    "round(prop.table(table(asia$S,asia$L),1),2)\n",
    "print('Gradiografia positiva dado que tiene tuberculosis o cancer')\n",
    "round(prop.table(table(asia$E,asia$X),1),2)\n",
    "print('Tiene dipnea dado que tien cancer o tuberculosis o bronquitis')\n",
    "BED = table(asia$B,asia$E,asia$D) \n",
    "round(prop.table(ftable(BED),1),2)\n",
    "print('Tiene tuberculosisocancer dado que tiene tuberculosis o cancer')\n",
    "TLE = table(asia$T,asia$L,asia$E) \n",
    "round(prop.table(ftable(TLE),1),2)"
   ]
  },
  {
   "cell_type": "code",
   "execution_count": null,
   "metadata": {},
   "outputs": [],
   "source": []
  },
  {
   "cell_type": "code",
   "execution_count": 92,
   "metadata": {},
   "outputs": [
    {
     "data": {
      "image/png": "[encoded data removed]",
      "text/plain": [
       "Plot with title \"Visitantes a Asia\""
      ]
     },
     "metadata": {},
     "output_type": "display_data"
    }
   ],
   "source": [
    "barplot(table(asia$A), col=c(\"blue\",\"red\"),\n",
    "        xlab=\"Sexo\", ylab=\"Frecuencia\", \n",
    "        main=\"Visitantes a Asia\")"
   ]
  },
  {
   "cell_type": "code",
   "execution_count": 213,
   "metadata": {},
   "outputs": [
    {
     "data": {
      "text/html": [
       "<table>\n",
       "<thead><tr><th scope=col>SI</th><th scope=col>NO</th></tr></thead>\n",
       "<tbody>\n",
       "\t<tr><td>0.5</td><td>0.5</td></tr>\n",
       "</tbody>\n",
       "</table>\n"
      ],
      "text/latex": [
       "\\begin{tabular}{ll}\n",
       " SI & NO\\\\\n",
       "\\hline\n",
       "\t 0.5 & 0.5\\\\\n",
       "\\end{tabular}\n"
      ],
      "text/markdown": [
       "\n",
       "SI | NO | \n",
       "|---|\n",
       "| 0.5 | 0.5 | \n",
       "\n",
       "\n"
      ],
      "text/plain": [
       "     SI  NO \n",
       "[1,] 0.5 0.5"
      ]
     },
     "metadata": {},
     "output_type": "display_data"
    }
   ],
   "source": [
    "yn   = c(\"SI\", \"NO\")\n",
    "pA = matrix(c(0.01,0.99),ncol=2,dimnames=list(NULL,yn))\n",
    "pS = matrix(c(0.5, 0.5), ncol=2,dimnames=list(NULL, yn))\n",
    "pS"
   ]
  },
  {
   "cell_type": "code",
   "execution_count": 225,
   "metadata": {},
   "outputs": [
    {
     "data": {
      "text/html": [
       "<table>\n",
       "<thead><tr><th></th><th scope=col>SI</th><th scope=col>NO</th></tr></thead>\n",
       "<tbody>\n",
       "\t<tr><th scope=row>SI</th><td>0.99</td><td>0.95</td></tr>\n",
       "\t<tr><th scope=row>NO</th><td>0.01</td><td>0.05</td></tr>\n",
       "</tbody>\n",
       "</table>\n"
      ],
      "text/latex": [
       "\\begin{tabular}{r|ll}\n",
       "  & SI & NO\\\\\n",
       "\\hline\n",
       "\tSI & 0.99 & 0.95\\\\\n",
       "\tNO & 0.01 & 0.05\\\\\n",
       "\\end{tabular}\n"
      ],
      "text/markdown": [
       "\n",
       "| <!--/--> | SI | NO | \n",
       "|---|---|\n",
       "| SI | 0.99 | 0.95 | \n",
       "| NO | 0.01 | 0.05 | \n",
       "\n",
       "\n"
      ],
      "text/plain": [
       "    A\n",
       "T    SI   NO  \n",
       "  SI 0.99 0.95\n",
       "  NO 0.01 0.05"
      ]
     },
     "metadata": {},
     "output_type": "display_data"
    }
   ],
   "source": [
    "pAT = matrix(c(0.99, 0.01,0.95, 0.05),ncol=2, dimnames=list(\"T\"=yn, \"A\"=yn))\n",
    "pBS = matrix(c(0.70 , 0.3, 0.28, 0.72),ncol=2, dimnames=list(\"B\"=yn, \"S\"=yn))\n",
    "pLS = matrix(c(0.99 , 0.01, 0.88, 0.12),ncol=2, dimnames=list(\"L\"=yn, \"S\"=yn))\n",
    "pEX=  matrix(c(0.96 , 0.04, 0.01, 0.99),ncol=2, dimnames=list(\"X\"=yn, \"E\"=yn))\n",
    "pAT"
   ]
  },
  {
   "cell_type": "code",
   "execution_count": 236,
   "metadata": {},
   "outputs": [
    {
     "name": "stdout",
     "output_type": "stream",
     "text": [
      ", , L = SI\n",
      "\n",
      "    T\n",
      "E    SI NO\n",
      "  SI  1  0\n",
      "  NO  0  1\n",
      "\n",
      ", , L = NO\n",
      "\n",
      "    T\n",
      "E    SI NO\n",
      "  SI  0  0\n",
      "  NO  1  1\n",
      "\n"
     ]
    }
   ],
   "source": [
    "# Dado que no existe los arreglos en 3D se van a crear para tener [FPA|CGA:CJA] y [SMA|FPA:FSA] \n",
    "pBED = c(0.90, 0.10 , 0.28,0.72,  0.21, 0.79,  0.15, 0.85)\n",
    "dim(pBED) =c(2,2,2)\n",
    "dimnames(pBED)=list(\"D\"=yn, \"B\"=yn, \"E\"=yn)\n",
    "pTLE = c(1, 0, 0, 1, 0, 1, 0, 1)\n",
    "dim(pTLE) = c(2, 2, 2)\n",
    "dimnames(pTLE)=list(\"E\"=yn, \"T\"=yn, \"L\"=yn)\n",
    "print(pTLE)"
   ]
  },
  {
   "cell_type": "code",
   "execution_count": 240,
   "metadata": {},
   "outputs": [],
   "source": [
    "dag.disc = custom.fit(dag, dist=list(A=pA,S=pS, T=pAT,L=pLS,B=pBS,D=pBED,E=pTLE,X=pEX))"
   ]
  },
  {
   "cell_type": "code",
   "execution_count": 246,
   "metadata": {},
   "outputs": [
    {
     "data": {
      "text/html": [
       "0.964285714285714"
      ],
      "text/latex": [
       "0.964285714285714"
      ],
      "text/markdown": [
       "0.964285714285714"
      ],
      "text/plain": [
       "[1] 0.9642857"
      ]
     },
     "metadata": {},
     "output_type": "display_data"
    }
   ],
   "source": [
    "#¿Cual es la probabilidad de tener un salir positivo dado que se fuma y se visito ASIA?\n",
    "cpquery(dag.disc, (X==\"SI\"),(A==\"SI\" & S==\"SI\"))"
   ]
  },
  {
   "cell_type": "code",
   "execution_count": null,
   "metadata": {},
   "outputs": [],
   "source": []
  },
  {
   "cell_type": "code",
   "execution_count": null,
   "metadata": {},
   "outputs": [],
   "source": []
  }
 ],
 "metadata": {
  "kernelspec": {
   "display_name": "R",
   "language": "R",
   "name": "ir"
  },
  "language_info": {
   "codemirror_mode": "r",
   "file_extension": ".r",
   "mimetype": "text/x-r-source",
   "name": "R",
   "pygments_lexer": "r",
   "version": "3.4.3"
  }
 },
 "nbformat": 4,
 "nbformat_minor": 2
}
