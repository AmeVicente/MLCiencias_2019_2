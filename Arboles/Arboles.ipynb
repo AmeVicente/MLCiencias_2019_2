{
 "cells": [
  {
   "cell_type": "code",
   "execution_count": 174,
   "metadata": {},
   "outputs": [],
   "source": [
    "import os \n",
    "#agregar al path el lugar de la instalacion de graphviz (dot.exe)\n",
    "os.environ[\"PATH\"] += os.pathsep + r'C:\\Users\\jimmy\\Anaconda3\\Library\\bin\\graphviz'"
   ]
  },
  {
   "cell_type": "code",
   "execution_count": 175,
   "metadata": {},
   "outputs": [],
   "source": [
    "import urllib.request as url\n",
    "import pandas as pd\n",
    "from sklearn import tree\n",
    "import graphviz as gv\n",
    "import numpy as np\n",
    "from sklearn.metrics import accuracy_score"
   ]
  },
  {
   "cell_type": "code",
   "execution_count": null,
   "metadata": {},
   "outputs": [],
   "source": [
    "#obtener datos, hay que limpiarlo\n",
    "target_url = (\"http://www.stat.cmu.edu/~larry/all-of-statistics/=data/coris.dat\")\n",
    "data = url.urlopen(target_url)\n",
    "html = data.read()\n",
    "html\n",
    "with open('coris.csv', 'wb') as f:\n",
    "     f.write(html)"
   ]
  },
  {
   "cell_type": "markdown",
   "metadata": {},
   "source": [
    "#### Descripción de los datos\n",
    "The Coronary Risk-Factor Study (CORIS) data involve 462 males between the ages of 15 and 64 from three rural areas in South Africa, (Rousseauw et al. (1983)). The outcome Y is the presence (Y = 1) or absence (Y = 0) of coronary heart disease. There are 9 covariates: systolic blood pressure, cumulative tobacco (kg), ldl (low density lipoprotein cholesterol), adiposity, famhist (family history of heart disease), typea (type-A behavior), obesity, alcohol (current alcohol consumption), and age."
   ]
  },
  {
   "cell_type": "code",
   "execution_count": 4,
   "metadata": {},
   "outputs": [
    {
     "data": {
      "text/html": [
       "<div>\n",
       "<style scoped>\n",
       "    .dataframe tbody tr th:only-of-type {\n",
       "        vertical-align: middle;\n",
       "    }\n",
       "\n",
       "    .dataframe tbody tr th {\n",
       "        vertical-align: top;\n",
       "    }\n",
       "\n",
       "    .dataframe thead th {\n",
       "        text-align: right;\n",
       "    }\n",
       "</style>\n",
       "<table border=\"1\" class=\"dataframe\">\n",
       "  <thead>\n",
       "    <tr style=\"text-align: right;\">\n",
       "      <th></th>\n",
       "      <th>row.names</th>\n",
       "      <th>sbp</th>\n",
       "      <th>tobacco</th>\n",
       "      <th>ldl</th>\n",
       "      <th>adiposity</th>\n",
       "      <th>famhist</th>\n",
       "      <th>typea</th>\n",
       "      <th>obesity</th>\n",
       "      <th>alcohol</th>\n",
       "      <th>age</th>\n",
       "      <th>chd</th>\n",
       "    </tr>\n",
       "  </thead>\n",
       "  <tbody>\n",
       "    <tr>\n",
       "      <th>0</th>\n",
       "      <td>1</td>\n",
       "      <td>160</td>\n",
       "      <td>12.00</td>\n",
       "      <td>5.73</td>\n",
       "      <td>23.11</td>\n",
       "      <td>1</td>\n",
       "      <td>49</td>\n",
       "      <td>25.30</td>\n",
       "      <td>97.20</td>\n",
       "      <td>52</td>\n",
       "      <td>1</td>\n",
       "    </tr>\n",
       "    <tr>\n",
       "      <th>1</th>\n",
       "      <td>2</td>\n",
       "      <td>144</td>\n",
       "      <td>0.01</td>\n",
       "      <td>4.41</td>\n",
       "      <td>28.61</td>\n",
       "      <td>0</td>\n",
       "      <td>55</td>\n",
       "      <td>28.87</td>\n",
       "      <td>2.06</td>\n",
       "      <td>63</td>\n",
       "      <td>1</td>\n",
       "    </tr>\n",
       "  </tbody>\n",
       "</table>\n",
       "</div>"
      ],
      "text/plain": [
       "   row.names  sbp  tobacco   ldl  adiposity  famhist  typea  obesity  alcohol  \\\n",
       "0          1  160    12.00  5.73      23.11        1     49    25.30    97.20   \n",
       "1          2  144     0.01  4.41      28.61        0     55    28.87     2.06   \n",
       "\n",
       "   age  chd  \n",
       "0   52    1  \n",
       "1   63    1  "
      ]
     },
     "execution_count": 4,
     "metadata": {},
     "output_type": "execute_result"
    }
   ],
   "source": [
    "data=pd.read_csv('coris.csv',sep=',',header=0)\n",
    "data.iloc[:2,:]"
   ]
  },
  {
   "cell_type": "code",
   "execution_count": 161,
   "metadata": {},
   "outputs": [],
   "source": [
    "#### Arbol con dos atributos\n",
    "df1=data['age']\n",
    "df2=data['sbp']\n",
    "data2 = pd.concat([df1, df2], axis=1, join_axes=[df1.index])"
   ]
  },
  {
   "cell_type": "code",
   "execution_count": 165,
   "metadata": {},
   "outputs": [
    {
     "name": "stdout",
     "output_type": "stream",
     "text": [
      "Personas con enferdad de las coronarias\n",
      "0    302\n",
      "1    160\n",
      "Name: chd, dtype: int64\n",
      "Personas con edad menor de 50 años\n",
      "290\n"
     ]
    }
   ],
   "source": [
    "print('Personas con enferdad de las coronarias')\n",
    "print(pd.value_counts(data['chd']))\n",
    "print('Personas con edad menor de 50 años')\n",
    "print(sum([1 for i in data['age'] if i<=50]))"
   ]
  },
  {
   "cell_type": "markdown",
   "metadata": {},
   "source": [
    "### Arboles \n",
    "A grandes rasgos los árboles de clasificación son métodos que particionan el espacio de covariables $\\mathcal{X}$ en pienzas disjuntas y entonces clasificamos las observaciones de acuerdo a la partición a la que pertencen.\n",
    "\n",
    "Supongamos que se tinen dos categorias  $y\\in \\mathcal{Y}=\\{0,1\\}$. Y tenemos solamente una covariable $X$. Escogemos un punto t que divide a la recta a la recta real en dos conjunto $A_1=(-\\infty,t]$, $A_2=(t,\\infty)$. Sea $\\hat{p}_s(j)$ la proporción de observaciones en $A_s$, tal que $Y_i=j$. \n",
    "$$\n",
    "\\hat{p}_s(j)=\\dfrac{\\sum_{i=1}^n I(Y_i=j,X_i\\in A_s)}{\\sum_{i=1}^n I(X_i\\in A_s)}\n",
    "$$\n",
    "para $s=1,2$ y $j=0,1$. La impureza del split se define como, \n",
    "$$\n",
    "I(t)=\\sum_{s=1}^2\\gamma_s\n",
    "$$\n",
    "donde $\\gamma_s=1-\\sum_{j=0}^1 \\hat{p}_s(j)^2$\n",
    "Esta es una medida de la impureza y se le conoce como indice de $\\textbf{Gini}$\n",
    "\n",
    "Ventajas\n",
    "\n",
    "* Fácil de interpretar.\n",
    "* No paramétrico\n",
    "* A los bancos les encanta en credit scoring \n",
    "\n",
    "Trataré de no hablar mal de los árboles como de las redes neuronales, pero...\n",
    "\n",
    "Deventajas \n",
    "\n",
    "* Sobreajuste\n",
    "* Pérdida de información al categorizar variables continuas\n",
    "* Precisión: si pueden usar mejor SVM, usenlos! tienen tasas de error más bajas hasta 30 %  \n",
    "* Inestabilidad: un pequeño cambio en los datos puede modificar ampliamente la estructura del árbol\n",
    "* Aguas con la heuristica "
   ]
  },
  {
   "cell_type": "markdown",
   "metadata": {},
   "source": [
    "Parametros\n",
    "1. $\\textit{max_leaf_nodes}$ es el maximo número de nodos hojas (nodos sin hijos) para reducción relativa de la impureza\n",
    "2. $\\textit{max_depth}$ profundidad maxima.\n",
    "3. $\\textit{criterion}$ criterio para la división de los datos, Gini (impureza) y entropía (información)"
   ]
  },
  {
   "cell_type": "code",
   "execution_count": 170,
   "metadata": {},
   "outputs": [],
   "source": [
    "tr=tree.DecisionTreeClassifier(criterion=\"gini\",max_depth=6,max_leaf_nodes=4)\n",
    "trf=tr.fit(data2,data['chd'])"
   ]
  },
  {
   "cell_type": "code",
   "execution_count": 171,
   "metadata": {},
   "outputs": [
    {
     "data": {
      "image/svg+xml": [
       "<?xml version=\"1.0\" encoding=\"UTF-8\" standalone=\"no\"?>\r\n",
       "<!DOCTYPE svg PUBLIC \"-//W3C//DTD SVG 1.1//EN\"\r\n",
       " \"http://www.w3.org/Graphics/SVG/1.1/DTD/svg11.dtd\">\r\n",
       "<!-- Generated by graphviz version 2.38.0 (20140413.2041)\r\n",
       " -->\r\n",
       "<!-- Title: Tree Pages: 1 -->\r\n",
       "<svg width=\"325pt\" height=\"433pt\"\r\n",
       " viewBox=\"0.00 0.00 325.00 433.00\" xmlns=\"http://www.w3.org/2000/svg\" xmlns:xlink=\"http://www.w3.org/1999/xlink\">\r\n",
       "<g id=\"graph0\" class=\"graph\" transform=\"scale(1 1) rotate(0) translate(4 429)\">\r\n",
       "<title>Tree</title>\r\n",
       "<polygon fill=\"white\" stroke=\"none\" points=\"-4,4 -4,-429 321,-429 321,4 -4,4\"/>\r\n",
       "<!-- 0 -->\r\n",
       "<g id=\"node1\" class=\"node\"><title>0</title>\r\n",
       "<path fill=\"#e58139\" fill-opacity=\"0.470588\" stroke=\"black\" d=\"M245.5,-425C245.5,-425 139.5,-425 139.5,-425 133.5,-425 127.5,-419 127.5,-413 127.5,-413 127.5,-354 127.5,-354 127.5,-348 133.5,-342 139.5,-342 139.5,-342 245.5,-342 245.5,-342 251.5,-342 257.5,-348 257.5,-354 257.5,-354 257.5,-413 257.5,-413 257.5,-419 251.5,-425 245.5,-425\"/>\r\n",
       "<text text-anchor=\"start\" x=\"158.5\" y=\"-409.8\" font-family=\"Helvetica,sans-Serif\" font-size=\"14.00\">age ≤ 50.5</text>\r\n",
       "<text text-anchor=\"start\" x=\"155\" y=\"-394.8\" font-family=\"Helvetica,sans-Serif\" font-size=\"14.00\">gini = 0.453</text>\r\n",
       "<text text-anchor=\"start\" x=\"145\" y=\"-379.8\" font-family=\"Helvetica,sans-Serif\" font-size=\"14.00\">samples = 462</text>\r\n",
       "<text text-anchor=\"start\" x=\"135.5\" y=\"-364.8\" font-family=\"Helvetica,sans-Serif\" font-size=\"14.00\">value = [302, 160]</text>\r\n",
       "<text text-anchor=\"start\" x=\"160\" y=\"-349.8\" font-family=\"Helvetica,sans-Serif\" font-size=\"14.00\">class = no</text>\r\n",
       "</g>\r\n",
       "<!-- 1 -->\r\n",
       "<g id=\"node2\" class=\"node\"><title>1</title>\r\n",
       "<path fill=\"#e58139\" fill-opacity=\"0.717647\" stroke=\"black\" d=\"M173.5,-306C173.5,-306 75.5,-306 75.5,-306 69.5,-306 63.5,-300 63.5,-294 63.5,-294 63.5,-235 63.5,-235 63.5,-229 69.5,-223 75.5,-223 75.5,-223 173.5,-223 173.5,-223 179.5,-223 185.5,-229 185.5,-235 185.5,-235 185.5,-294 185.5,-294 185.5,-300 179.5,-306 173.5,-306\"/>\r\n",
       "<text text-anchor=\"start\" x=\"90.5\" y=\"-290.8\" font-family=\"Helvetica,sans-Serif\" font-size=\"14.00\">age ≤ 30.5</text>\r\n",
       "<text text-anchor=\"start\" x=\"87\" y=\"-275.8\" font-family=\"Helvetica,sans-Serif\" font-size=\"14.00\">gini = 0.344</text>\r\n",
       "<text text-anchor=\"start\" x=\"77\" y=\"-260.8\" font-family=\"Helvetica,sans-Serif\" font-size=\"14.00\">samples = 290</text>\r\n",
       "<text text-anchor=\"start\" x=\"71.5\" y=\"-245.8\" font-family=\"Helvetica,sans-Serif\" font-size=\"14.00\">value = [226, 64]</text>\r\n",
       "<text text-anchor=\"start\" x=\"92\" y=\"-230.8\" font-family=\"Helvetica,sans-Serif\" font-size=\"14.00\">class = no</text>\r\n",
       "</g>\r\n",
       "<!-- 0&#45;&gt;1 -->\r\n",
       "<g id=\"edge1\" class=\"edge\"><title>0&#45;&gt;1</title>\r\n",
       "<path fill=\"none\" stroke=\"black\" d=\"M168.908,-341.907C163.844,-333.195 158.44,-323.897 153.207,-314.893\"/>\r\n",
       "<polygon fill=\"black\" stroke=\"black\" points=\"156.102,-312.908 148.051,-306.021 150.049,-316.425 156.102,-312.908\"/>\r\n",
       "<text text-anchor=\"middle\" x=\"141.65\" y=\"-326.487\" font-family=\"Helvetica,sans-Serif\" font-size=\"14.00\">True</text>\r\n",
       "</g>\r\n",
       "<!-- 2 -->\r\n",
       "<g id=\"node7\" class=\"node\"><title>2</title>\r\n",
       "<path fill=\"#399de5\" fill-opacity=\"0.207843\" stroke=\"black\" d=\"M305,-298.5C305,-298.5 216,-298.5 216,-298.5 210,-298.5 204,-292.5 204,-286.5 204,-286.5 204,-242.5 204,-242.5 204,-236.5 210,-230.5 216,-230.5 216,-230.5 305,-230.5 305,-230.5 311,-230.5 317,-236.5 317,-242.5 317,-242.5 317,-286.5 317,-286.5 317,-292.5 311,-298.5 305,-298.5\"/>\r\n",
       "<text text-anchor=\"start\" x=\"223\" y=\"-283.3\" font-family=\"Helvetica,sans-Serif\" font-size=\"14.00\">gini = 0.493</text>\r\n",
       "<text text-anchor=\"start\" x=\"213\" y=\"-268.3\" font-family=\"Helvetica,sans-Serif\" font-size=\"14.00\">samples = 172</text>\r\n",
       "<text text-anchor=\"start\" x=\"212\" y=\"-253.3\" font-family=\"Helvetica,sans-Serif\" font-size=\"14.00\">value = [76, 96]</text>\r\n",
       "<text text-anchor=\"start\" x=\"230.5\" y=\"-238.3\" font-family=\"Helvetica,sans-Serif\" font-size=\"14.00\">class = si</text>\r\n",
       "</g>\r\n",
       "<!-- 0&#45;&gt;2 -->\r\n",
       "<g id=\"edge6\" class=\"edge\"><title>0&#45;&gt;2</title>\r\n",
       "<path fill=\"none\" stroke=\"black\" d=\"M216.092,-341.907C222.57,-330.763 229.605,-318.658 236.125,-307.439\"/>\r\n",
       "<polygon fill=\"black\" stroke=\"black\" points=\"239.225,-309.072 241.223,-298.667 233.172,-305.554 239.225,-309.072\"/>\r\n",
       "<text text-anchor=\"middle\" x=\"247.624\" y=\"-319.134\" font-family=\"Helvetica,sans-Serif\" font-size=\"14.00\">False</text>\r\n",
       "</g>\r\n",
       "<!-- 3 -->\r\n",
       "<g id=\"node3\" class=\"node\"><title>3</title>\r\n",
       "<path fill=\"#e58139\" fill-opacity=\"0.921569\" stroke=\"black\" d=\"M101,-179.5C101,-179.5 12,-179.5 12,-179.5 6,-179.5 0,-173.5 0,-167.5 0,-167.5 0,-123.5 0,-123.5 0,-117.5 6,-111.5 12,-111.5 12,-111.5 101,-111.5 101,-111.5 107,-111.5 113,-117.5 113,-123.5 113,-123.5 113,-167.5 113,-167.5 113,-173.5 107,-179.5 101,-179.5\"/>\r\n",
       "<text text-anchor=\"start\" x=\"19\" y=\"-164.3\" font-family=\"Helvetica,sans-Serif\" font-size=\"14.00\">gini = 0.137</text>\r\n",
       "<text text-anchor=\"start\" x=\"9\" y=\"-149.3\" font-family=\"Helvetica,sans-Serif\" font-size=\"14.00\">samples = 108</text>\r\n",
       "<text text-anchor=\"start\" x=\"8\" y=\"-134.3\" font-family=\"Helvetica,sans-Serif\" font-size=\"14.00\">value = [100, 8]</text>\r\n",
       "<text text-anchor=\"start\" x=\"24\" y=\"-119.3\" font-family=\"Helvetica,sans-Serif\" font-size=\"14.00\">class = no</text>\r\n",
       "</g>\r\n",
       "<!-- 1&#45;&gt;3 -->\r\n",
       "<g id=\"edge2\" class=\"edge\"><title>1&#45;&gt;3</title>\r\n",
       "<path fill=\"none\" stroke=\"black\" d=\"M100.908,-222.907C94.4304,-211.763 87.3953,-199.658 80.8749,-188.439\"/>\r\n",
       "<polygon fill=\"black\" stroke=\"black\" points=\"83.8275,-186.554 75.7765,-179.667 77.7754,-190.072 83.8275,-186.554\"/>\r\n",
       "</g>\r\n",
       "<!-- 4 -->\r\n",
       "<g id=\"node4\" class=\"node\"><title>4</title>\r\n",
       "<path fill=\"#e58139\" fill-opacity=\"0.556863\" stroke=\"black\" d=\"M241.5,-187C241.5,-187 143.5,-187 143.5,-187 137.5,-187 131.5,-181 131.5,-175 131.5,-175 131.5,-116 131.5,-116 131.5,-110 137.5,-104 143.5,-104 143.5,-104 241.5,-104 241.5,-104 247.5,-104 253.5,-110 253.5,-116 253.5,-116 253.5,-175 253.5,-175 253.5,-181 247.5,-187 241.5,-187\"/>\r\n",
       "<text text-anchor=\"start\" x=\"142.5\" y=\"-171.8\" font-family=\"Helvetica,sans-Serif\" font-size=\"14.00\">presion ≤ 200.0</text>\r\n",
       "<text text-anchor=\"start\" x=\"155\" y=\"-156.8\" font-family=\"Helvetica,sans-Serif\" font-size=\"14.00\">gini = 0.426</text>\r\n",
       "<text text-anchor=\"start\" x=\"145\" y=\"-141.8\" font-family=\"Helvetica,sans-Serif\" font-size=\"14.00\">samples = 182</text>\r\n",
       "<text text-anchor=\"start\" x=\"139.5\" y=\"-126.8\" font-family=\"Helvetica,sans-Serif\" font-size=\"14.00\">value = [126, 56]</text>\r\n",
       "<text text-anchor=\"start\" x=\"160\" y=\"-111.8\" font-family=\"Helvetica,sans-Serif\" font-size=\"14.00\">class = no</text>\r\n",
       "</g>\r\n",
       "<!-- 1&#45;&gt;4 -->\r\n",
       "<g id=\"edge3\" class=\"edge\"><title>1&#45;&gt;4</title>\r\n",
       "<path fill=\"none\" stroke=\"black\" d=\"M148.092,-222.907C153.156,-214.195 158.56,-204.897 163.793,-195.893\"/>\r\n",
       "<polygon fill=\"black\" stroke=\"black\" points=\"166.951,-197.425 168.949,-187.021 160.898,-193.908 166.951,-197.425\"/>\r\n",
       "</g>\r\n",
       "<!-- 5 -->\r\n",
       "<g id=\"node5\" class=\"node\"><title>5</title>\r\n",
       "<path fill=\"#e58139\" fill-opacity=\"0.572549\" stroke=\"black\" d=\"M177.5,-68C177.5,-68 79.5,-68 79.5,-68 73.5,-68 67.5,-62 67.5,-56 67.5,-56 67.5,-12 67.5,-12 67.5,-6 73.5,-0 79.5,-0 79.5,-0 177.5,-0 177.5,-0 183.5,-0 189.5,-6 189.5,-12 189.5,-12 189.5,-56 189.5,-56 189.5,-62 183.5,-68 177.5,-68\"/>\r\n",
       "<text text-anchor=\"start\" x=\"95\" y=\"-52.8\" font-family=\"Helvetica,sans-Serif\" font-size=\"14.00\">gini = 0.42</text>\r\n",
       "<text text-anchor=\"start\" x=\"81\" y=\"-37.8\" font-family=\"Helvetica,sans-Serif\" font-size=\"14.00\">samples = 180</text>\r\n",
       "<text text-anchor=\"start\" x=\"75.5\" y=\"-22.8\" font-family=\"Helvetica,sans-Serif\" font-size=\"14.00\">value = [126, 54]</text>\r\n",
       "<text text-anchor=\"start\" x=\"96\" y=\"-7.8\" font-family=\"Helvetica,sans-Serif\" font-size=\"14.00\">class = no</text>\r\n",
       "</g>\r\n",
       "<!-- 4&#45;&gt;5 -->\r\n",
       "<g id=\"edge4\" class=\"edge\"><title>4&#45;&gt;5</title>\r\n",
       "<path fill=\"none\" stroke=\"black\" d=\"M168.669,-103.726C163.604,-95.0615 158.248,-85.8962 153.153,-77.1802\"/>\r\n",
       "<polygon fill=\"black\" stroke=\"black\" points=\"156.031,-75.167 147.963,-68.2996 149.987,-78.6992 156.031,-75.167\"/>\r\n",
       "</g>\r\n",
       "<!-- 6 -->\r\n",
       "<g id=\"node6\" class=\"node\"><title>6</title>\r\n",
       "<path fill=\"#399de5\" stroke=\"black\" d=\"M293,-68C293,-68 220,-68 220,-68 214,-68 208,-62 208,-56 208,-56 208,-12 208,-12 208,-6 214,-0 220,-0 220,-0 293,-0 293,-0 299,-0 305,-6 305,-12 305,-12 305,-56 305,-56 305,-62 299,-68 293,-68\"/>\r\n",
       "<text text-anchor=\"start\" x=\"227.5\" y=\"-52.8\" font-family=\"Helvetica,sans-Serif\" font-size=\"14.00\">gini = 0.0</text>\r\n",
       "<text text-anchor=\"start\" x=\"217\" y=\"-37.8\" font-family=\"Helvetica,sans-Serif\" font-size=\"14.00\">samples = 2</text>\r\n",
       "<text text-anchor=\"start\" x=\"216\" y=\"-22.8\" font-family=\"Helvetica,sans-Serif\" font-size=\"14.00\">value = [0, 2]</text>\r\n",
       "<text text-anchor=\"start\" x=\"226.5\" y=\"-7.8\" font-family=\"Helvetica,sans-Serif\" font-size=\"14.00\">class = si</text>\r\n",
       "</g>\r\n",
       "<!-- 4&#45;&gt;6 -->\r\n",
       "<g id=\"edge5\" class=\"edge\"><title>4&#45;&gt;6</title>\r\n",
       "<path fill=\"none\" stroke=\"black\" d=\"M216.331,-103.726C221.396,-95.0615 226.752,-85.8962 231.847,-77.1802\"/>\r\n",
       "<polygon fill=\"black\" stroke=\"black\" points=\"235.013,-78.6992 237.037,-68.2996 228.969,-75.167 235.013,-78.6992\"/>\r\n",
       "</g>\r\n",
       "</g>\r\n",
       "</svg>\r\n"
      ],
      "text/plain": [
       "<graphviz.files.Source at 0x1fec5d44710>"
      ]
     },
     "execution_count": 171,
     "metadata": {},
     "output_type": "execute_result"
    }
   ],
   "source": [
    "dot_data = tree.export_graphviz(trf, out_file=None,\n",
    "                     feature_names=['age','presion'],  \n",
    "                     class_names=['no','si'], \n",
    "                     filled=True, rounded=True,  \n",
    "                     special_characters=True)  \n",
    "graph = gv.Source(dot_data)  \n",
    "graph "
   ]
  },
  {
   "cell_type": "code",
   "execution_count": 172,
   "metadata": {},
   "outputs": [
    {
     "data": {
      "text/plain": [
       "0.7012987012987013"
      ]
     },
     "execution_count": 172,
     "metadata": {},
     "output_type": "execute_result"
    }
   ],
   "source": [
    "yp=trf.predict(data2)\n",
    "accuracy_score(data['chd'],yp)"
   ]
  },
  {
   "cell_type": "code",
   "execution_count": 173,
   "metadata": {},
   "outputs": [],
   "source": [
    "#dot_data = tree.export_graphviz(trf, out_file=None) \n",
    "#graph = gv.Source(dot_data) \n",
    "#graph.render(\"iris\") "
   ]
  }
 ],
 "metadata": {
  "kernelspec": {
   "display_name": "Python 3",
   "language": "python",
   "name": "python3"
  },
  "language_info": {
   "codemirror_mode": {
    "name": "ipython",
    "version": 3
   },
   "file_extension": ".py",
   "mimetype": "text/x-python",
   "name": "python",
   "nbconvert_exporter": "python",
   "pygments_lexer": "ipython3",
   "version": "3.6.4"
  }
 },
 "nbformat": 4,
 "nbformat_minor": 2
}
